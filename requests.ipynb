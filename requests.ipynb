{
 "cells": [
  {
   "cell_type": "code",
   "execution_count": 9,
   "metadata": {},
   "outputs": [
    {
     "name": "stdout",
     "output_type": "stream",
     "text": [
      "https://www.amazon.com//Blackout-Absolutely-Insulated-Draperies-Anti-Rust/product-reviews/B089CQ2R2Y/ref=cm_cr_dp_d_show_all_btm?ie=UTF8&reviewerType=all_reviews\n"
     ]
    }
   ],
   "source": [
    "from concurrent.futures import ThreadPoolExecutor\n",
    "from bs4 import BeautifulSoup\n",
    "import requests\n",
    "import pandas as pd\n",
    "import re\n",
    "import math\n",
    "URL = \"https://www.amazon.com/Blackout-Absolutely-Insulated-Draperies-Anti-Rust/dp/B089CQ2R2Y/ref=cm_cr_arp_d_product_top?ie=UTF8\"\n",
    "HEADERS = {\n",
    "    \"User-Agent\": \"Mozilla/5.0 (Windows NT 10.0; Win64; x64) AppleWebKit/537.36 (KHTML, like Gecko) Chrome/58.0.3029.110 Safari/537.3\",\n",
    "    \"Host\": \"www.amazon.com\",\n",
    "    \"Accept-Encoding\": \"gzip, deflate\",\n",
    "}\n",
    "\n",
    "response = requests.get(URL, headers=HEADERS)\n",
    "\n",
    "soup = BeautifulSoup(response.content, \"html.parser\")\n",
    "\n",
    "see_all_reviews_link = soup.find(\"a\", {\"data-hook\": \"see-all-reviews-link-foot\"})[\"href\"]\n",
    "\n",
    "\n",
    "URL_ALL_REVIEWS=\"https://www.amazon.com/\"+see_all_reviews_link\n",
    "\n",
    "\n",
    "response = requests.get(URL_ALL_REVIEWS, headers=HEADERS)\n",
    "\n",
    "soup = BeautifulSoup(response.content, \"html.parser\")\n",
    "\n",
    "\n",
    "# Find the element that contains the ratings with reviews and extract the text\n",
    "ratings_with_reviews_elem = soup.find(\"div\", {\"id\": \"filter-info-section\"})\n",
    "ratings_with_reviews_text = ratings_with_reviews_elem.get_text().strip()\n",
    "\n",
    "#get just the reviews amount\n",
    "reviews_count = re.search(r'(\\d+,*\\d*)\\s+with reviews', ratings_with_reviews_text).group(1)\n",
    "\n",
    "\n",
    "\n",
    "\n",
    "data = []\n",
    "\n",
    "\n",
    "def scrape_reviews(page_url):\n",
    "    response = requests.get(page_url, headers=HEADERS)\n",
    "    soup = BeautifulSoup(response.text, 'html.parser')\n",
    "    reviews = soup.find_all('div', {'data-hook': 'review'})\n",
    "    page_data = []\n",
    "    for review in reviews:\n",
    "        profile_name = review.find(\"span\", {\"class\": \"a-profile-name\"}).get_text()\n",
    "        title_elem = review.find(\"a\", {\"data-hook\": \"review-title\"})\n",
    "        title = title_elem.get_text().strip() if title_elem else \"\"\n",
    "        body = review.find(\"span\", {\"data-hook\": \"review-body\"}).get_text().strip()\n",
    "        stars_elem = review.find(\"i\", {\"data-hook\": \"review-star-rating\"})\n",
    "        stars = float(stars_elem.span.get_text().split()[0]) if stars_elem and stars_elem.span else None\n",
    "        page_data.append([profile_name, title, body, stars])\n",
    "    return page_data\n",
    "\n",
    "with ThreadPoolExecutor() as executor:\n",
    "    page_num=math.ceil(float(reviews_count.replace(\",\",\"\"))/10)\n",
    "    pages = [f\"{URL_ALL_REVIEWS}+&pageNumber={i+1}\" for i in range(page_num)]\n",
    "    results = executor.map(scrape_reviews, pages)\n",
    "    for result in results:\n",
    "        data += result"
   ]
  },
  {
   "cell_type": "code",
   "execution_count": 10,
   "metadata": {},
   "outputs": [
    {
     "data": {
      "text/html": [
       "<div>\n",
       "<style scoped>\n",
       "    .dataframe tbody tr th:only-of-type {\n",
       "        vertical-align: middle;\n",
       "    }\n",
       "\n",
       "    .dataframe tbody tr th {\n",
       "        vertical-align: top;\n",
       "    }\n",
       "\n",
       "    .dataframe thead th {\n",
       "        text-align: right;\n",
       "    }\n",
       "</style>\n",
       "<table border=\"1\" class=\"dataframe\">\n",
       "  <thead>\n",
       "    <tr style=\"text-align: right;\">\n",
       "      <th></th>\n",
       "      <th>Name</th>\n",
       "      <th>Title</th>\n",
       "      <th>Body</th>\n",
       "      <th>Stars</th>\n",
       "    </tr>\n",
       "  </thead>\n",
       "  <tbody>\n",
       "    <tr>\n",
       "      <th>0</th>\n",
       "      <td>keyrse</td>\n",
       "      <td>Quality, light blocking, color and style</td>\n",
       "      <td>Received these today and put them up directly ...</td>\n",
       "      <td>5.0</td>\n",
       "    </tr>\n",
       "    <tr>\n",
       "      <th>1</th>\n",
       "      <td>AM</td>\n",
       "      <td>Excellent quality, very good blackout</td>\n",
       "      <td>Update: inside photos added.I will update with...</td>\n",
       "      <td>5.0</td>\n",
       "    </tr>\n",
       "    <tr>\n",
       "      <th>2</th>\n",
       "      <td>Lexi</td>\n",
       "      <td>Good for the price, surprisingly light-blocking</td>\n",
       "      <td>I was looking for a set of blackout curtains f...</td>\n",
       "      <td>4.0</td>\n",
       "    </tr>\n",
       "    <tr>\n",
       "      <th>3</th>\n",
       "      <td>L J</td>\n",
       "      <td>Perfect for our needs</td>\n",
       "      <td>We got the extra wide size for our large bay w...</td>\n",
       "      <td>5.0</td>\n",
       "    </tr>\n",
       "    <tr>\n",
       "      <th>4</th>\n",
       "      <td>Jess</td>\n",
       "      <td>Does the job!</td>\n",
       "      <td>The pros:  was looking for white and they are ...</td>\n",
       "      <td>4.0</td>\n",
       "    </tr>\n",
       "  </tbody>\n",
       "</table>\n",
       "</div>"
      ],
      "text/plain": [
       "     Name                                            Title  \\\n",
       "0  keyrse         Quality, light blocking, color and style   \n",
       "1      AM            Excellent quality, very good blackout   \n",
       "2    Lexi  Good for the price, surprisingly light-blocking   \n",
       "3     L J                            Perfect for our needs   \n",
       "4    Jess                                    Does the job!   \n",
       "\n",
       "                                                Body  Stars  \n",
       "0  Received these today and put them up directly ...    5.0  \n",
       "1  Update: inside photos added.I will update with...    5.0  \n",
       "2  I was looking for a set of blackout curtains f...    4.0  \n",
       "3  We got the extra wide size for our large bay w...    5.0  \n",
       "4  The pros:  was looking for white and they are ...    4.0  "
      ]
     },
     "execution_count": 10,
     "metadata": {},
     "output_type": "execute_result"
    }
   ],
   "source": [
    "df = pd.DataFrame(data, columns=['Name', 'Title', 'Body', 'Stars'])\n",
    "df.head()"
   ]
  },
  {
   "cell_type": "code",
   "execution_count": 11,
   "metadata": {},
   "outputs": [
    {
     "data": {
      "text/plain": [
       "2107"
      ]
     },
     "execution_count": 11,
     "metadata": {},
     "output_type": "execute_result"
    }
   ],
   "source": [
    "len(df)"
   ]
  }
 ],
 "metadata": {
  "kernelspec": {
   "display_name": "Python 3",
   "language": "python",
   "name": "python3"
  },
  "language_info": {
   "codemirror_mode": {
    "name": "ipython",
    "version": 3
   },
   "file_extension": ".py",
   "mimetype": "text/x-python",
   "name": "python",
   "nbconvert_exporter": "python",
   "pygments_lexer": "ipython3",
   "version": "3.10.5"
  },
  "orig_nbformat": 4,
  "vscode": {
   "interpreter": {
    "hash": "369f2c481f4da34e4445cda3fffd2e751bd1c4d706f27375911949ba6bb62e1c"
   }
  }
 },
 "nbformat": 4,
 "nbformat_minor": 2
}
